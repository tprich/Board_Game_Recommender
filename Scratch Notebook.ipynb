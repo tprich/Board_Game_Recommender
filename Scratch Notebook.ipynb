{
 "cells": [
  {
   "cell_type": "markdown",
   "id": "25766b00",
   "metadata": {},
   "source": [
    "# Test Run of Board Game Geek API"
   ]
  },
  {
   "cell_type": "code",
   "execution_count": 1,
   "id": "c6051c49",
   "metadata": {},
   "outputs": [],
   "source": [
    "import numpy as np\n",
    "import pandas as pd\n",
    "import requests\n",
    "import time\n",
    "from bs4 import BeautifulSoup\n",
    "from itertools import count"
   ]
  },
  {
   "cell_type": "code",
   "execution_count": 2,
   "id": "97ac0a0c",
   "metadata": {},
   "outputs": [],
   "source": [
    "api = 'https://api.geekdo.com/xmlapi2/thing'"
   ]
  },
  {
   "cell_type": "code",
   "execution_count": null,
   "id": "979cedfe",
   "metadata": {},
   "outputs": [],
   "source": [
    "params = {\n",
    "    'id': '9209',\n",
    "    'stats': 1,\n",
    "    'page': 1,\n",
    "}"
   ]
  },
  {
   "cell_type": "code",
   "execution_count": null,
   "id": "557b8a06",
   "metadata": {},
   "outputs": [],
   "source": [
    "res = requests.get(api, params)\n",
    "res.status_code"
   ]
  },
  {
   "cell_type": "code",
   "execution_count": null,
   "id": "dfa8ed06",
   "metadata": {
    "scrolled": true
   },
   "outputs": [],
   "source": [
    "soup = BeautifulSoup(res.text, 'xml')"
   ]
  },
  {
   "cell_type": "code",
   "execution_count": null,
   "id": "ab7abf19",
   "metadata": {},
   "outputs": [],
   "source": [
    "soup"
   ]
  },
  {
   "cell_type": "code",
   "execution_count": null,
   "id": "f8f25c1b",
   "metadata": {},
   "outputs": [],
   "source": [
    "users = []\n",
    "game = 9209"
   ]
  },
  {
   "cell_type": "code",
   "execution_count": null,
   "id": "ce2014ac",
   "metadata": {},
   "outputs": [],
   "source": [
    "for comment in soup.find('comments').find_all('comment'):\n",
    "    user_rating ={\n",
    "        'user_id': comment['username'],\n",
    "        'rating': comment['rating'],\n",
    "        'game_id': game\n",
    "    }\n",
    "    users.append(user_rating)"
   ]
  },
  {
   "cell_type": "code",
   "execution_count": null,
   "id": "e1cb3b96",
   "metadata": {},
   "outputs": [],
   "source": [
    "pd.DataFrame(users)"
   ]
  },
  {
   "cell_type": "code",
   "execution_count": null,
   "id": "f51a3f69",
   "metadata": {},
   "outputs": [],
   "source": [
    "for game in bg_list:\n",
    "    for i in range():\n",
    "        params = {\n",
    "            'id': game,\n",
    "            'ratingcomments': '1',\n",
    "            'page': i,\n",
    "            'pagesize': 100\n",
    "        }\n",
    "        \n",
    "        res = requests.get(api, params)\n",
    "        \n",
    "        if res.status_code != 200:\n",
    "            print(res.status_code)\n",
    "        \n",
    "        soup = BeautifulSoup(res.text, 'xml')\n",
    "        \n",
    "        for comment in soup.find('comments').find_all('comment'):\n",
    "            user_rating ={\n",
    "                'user_id': comment['username']\n",
    "                'rating': comment['rating']\n",
    "                'game_id': game,\n",
    "            }\n",
    "        game_dicts.append(game_details)\n",
    "        \n",
    "        time.sleep(5)\n",
    "        \n",
    "print('DONE!')"
   ]
  },
  {
   "cell_type": "code",
   "execution_count": null,
   "id": "e585330c",
   "metadata": {},
   "outputs": [],
   "source": []
  },
  {
   "cell_type": "code",
   "execution_count": null,
   "id": "564d9c0b",
   "metadata": {},
   "outputs": [],
   "source": [
    "for row in soup:\n",
    "    game_details ={\n",
    "        'page_num':row.find('comments')['page'],\n",
    "        'game_id': row.find('item')['id'],\n",
    "        'game_name': row.find('name', {'type': 'primary'})['value'],\n",
    "        'game_des': row.find('description'),\n",
    "        'game_yr_pub': row.find('yearpublished')['value'],\n",
    "        'min_players': row.find('minplayers')['value'],\n",
    "        'max_players': row.find('maxplayers')['value'],\n",
    "        'alt_names': row.find_all('name', {'type': 'alternate'}),\n",
    "        'poll_num_players': row.find('poll', {'name':\"suggested_numplayers\"}),\n",
    "        'play_time': row.find('playingtime')['value'],\n",
    "        'min_play_time': row.find('minplaytime')['value'],\n",
    "        'max_play_time': row.find('maxplaytime')['value'],\n",
    "        'min_age':row.find('minage')['value'],\n",
    "        'poll_age':row.find('poll', {'name': 'suggested_playerage'}),\n",
    "        'boardgamecategory':row.find_all('link', {'type': 'boardgamecategory'}),\n",
    "        'boardgamemechanic':row.find_all('link', {'type': 'boardgamemechanic'}),\n",
    "        'boardgamefamily':row.find_all('link', {'type': 'boardgamefamily'}),\n",
    "        'boardgameexpansion':row.find_all('link', {'type': 'boardgameexpansion'}),\n",
    "        'boardgamecompilation':row.find_all('link', {'type': 'boardgamecompilation'}),\n",
    "        'boardgameimplementation':row.find_all('link', {'type': 'boardgameimplementation'}),\n",
    "        'boardgamedesigner':row.find_all('link', {'type': 'boardgamedesigner'}),\n",
    "        'boardgameartist':row.find_all('link', {'type': 'boardgameartist'}),\n",
    "        'boardgamepublisher':row.find_all('link', {'type': 'boardgamepublisher'}),\n",
    "        'total ratings': row.find('comments')['totalitems'],\n",
    "        'comments': row.find('comments'),\n",
    "        'statistics': row.find('statistics')\n",
    "    }\n",
    "game_dicts.append(game_details)"
   ]
  },
  {
   "cell_type": "code",
   "execution_count": null,
   "id": "d8595f01",
   "metadata": {},
   "outputs": [],
   "source": [
    "game_dicts"
   ]
  },
  {
   "cell_type": "code",
   "execution_count": null,
   "id": "4c2d7c66",
   "metadata": {},
   "outputs": [],
   "source": [
    "df = pd.DataFrame.from_dict(game_dicts)"
   ]
  },
  {
   "cell_type": "code",
   "execution_count": null,
   "id": "46bfd668",
   "metadata": {
    "scrolled": false
   },
   "outputs": [],
   "source": [
    "df['comments'][0]"
   ]
  },
  {
   "cell_type": "code",
   "execution_count": null,
   "id": "843eb0ca",
   "metadata": {},
   "outputs": [],
   "source": [
    "df['alt_names'][0]"
   ]
  },
  {
   "cell_type": "code",
   "execution_count": null,
   "id": "7c8a63d7",
   "metadata": {},
   "outputs": [],
   "source": [
    "pd.DataFrame.from_dict([game_details]).to_csv(f'./{game}_test.csv')"
   ]
  },
  {
   "cell_type": "code",
   "execution_count": null,
   "id": "7c79ef3f",
   "metadata": {},
   "outputs": [],
   "source": []
  },
  {
   "cell_type": "code",
   "execution_count": null,
   "id": "91acd47e",
   "metadata": {},
   "outputs": [],
   "source": []
  },
  {
   "cell_type": "code",
   "execution_count": null,
   "id": "521601ea",
   "metadata": {},
   "outputs": [],
   "source": []
  },
  {
   "cell_type": "markdown",
   "id": "df06c618",
   "metadata": {},
   "source": [
    "# Scrapping for top 200"
   ]
  },
  {
   "cell_type": "code",
   "execution_count": null,
   "id": "c2939f69",
   "metadata": {},
   "outputs": [],
   "source": [
    "url = 'https://boardgamegeek.com/browse/boardgame/page/'"
   ]
  },
  {
   "cell_type": "code",
   "execution_count": null,
   "id": "f6aacebb",
   "metadata": {},
   "outputs": [],
   "source": [
    "res = requests.get(url)\n",
    "res.status_code"
   ]
  },
  {
   "cell_type": "code",
   "execution_count": null,
   "id": "43a5a8fb",
   "metadata": {},
   "outputs": [],
   "source": [
    "soup2 = BeautifulSoup(res.text, 'lxml')"
   ]
  },
  {
   "cell_type": "code",
   "execution_count": null,
   "id": "756f0a94",
   "metadata": {},
   "outputs": [],
   "source": [
    "table = soup2.find('table', {'class': 'collection_table', 'id': 'collectionitems'})"
   ]
  },
  {
   "cell_type": "code",
   "execution_count": null,
   "id": "89e4bfe3",
   "metadata": {},
   "outputs": [],
   "source": [
    "table.find_all('div', {'id': 'results_objectname1'})[0].find('a')['href'].split('/')[2]"
   ]
  },
  {
   "cell_type": "code",
   "execution_count": null,
   "id": "355e98fa",
   "metadata": {},
   "outputs": [],
   "source": [
    "boardgame_top1000 = []"
   ]
  },
  {
   "cell_type": "code",
   "execution_count": null,
   "id": "2784a30b",
   "metadata": {},
   "outputs": [],
   "source": [
    "for i in range (100):\n",
    "    boardgame = {\n",
    "        'rank': table.find_all('td', {'class': 'collection_rank'})[i].text.strip(),\n",
    "        'title':table.find_all('div', {'id': 'results_objectname'+str(i+1)})[0].find('a').text,\n",
    "        'id':table.find_all('div', {'id': 'results_objectname'+str(i+1)})[0].find('a')['href'].split('/')[2]\n",
    "    }\n",
    "    boardgame_top1000.append(boardgame)"
   ]
  },
  {
   "cell_type": "code",
   "execution_count": null,
   "id": "d254de16",
   "metadata": {},
   "outputs": [],
   "source": [
    "pd.DataFrame(boardgame_top1000)"
   ]
  },
  {
   "cell_type": "code",
   "execution_count": null,
   "id": "37a9cac9",
   "metadata": {},
   "outputs": [],
   "source": []
  },
  {
   "cell_type": "code",
   "execution_count": null,
   "id": "bb1f2934",
   "metadata": {},
   "outputs": [],
   "source": [
    "(1000*6)/60"
   ]
  },
  {
   "cell_type": "markdown",
   "id": "186e9291",
   "metadata": {},
   "source": [
    "# BG Deatails"
   ]
  },
  {
   "cell_type": "code",
   "execution_count": null,
   "id": "8a64ae14",
   "metadata": {},
   "outputs": [],
   "source": [
    "bg_list = ['174430', '161936']"
   ]
  },
  {
   "cell_type": "code",
   "execution_count": null,
   "id": "5c1af1c3",
   "metadata": {},
   "outputs": [],
   "source": [
    "game_dicts = []"
   ]
  },
  {
   "cell_type": "code",
   "execution_count": null,
   "id": "095e90de",
   "metadata": {},
   "outputs": [],
   "source": [
    "api = 'https://api.geekdo.com/xmlapi2/thing'\n",
    "\n",
    "for game in bg_list:\n",
    "    params = {\n",
    "        'id': game,\n",
    "        'stats': 1,\n",
    "        'page': 1\n",
    "    }\n",
    "        \n",
    "    res = requests.get(api, params)\n",
    "        \n",
    "    if res.status_code != 200:\n",
    "            print(res.status_code)\n",
    "        \n",
    "    soup = BeautifulSoup(res.text, 'xml')\n",
    "    for item in soup:\n",
    "        game_details ={\n",
    "                'game_id': game,\n",
    "                'game_name': row.find('name', {'type': 'primary'})['value'],\n",
    "                'game_des': row.find('description').text,\n",
    "                'game_yr_pub': row.find('yearpublished')['value'],\n",
    "                'min_players': row.find('minplayers')['value'],\n",
    "                'max_players': row.find('maxplayers')['value'],\n",
    "                'min_play_time': row.find('minplaytime')['value'],\n",
    "                'max_play_time': row.find('maxplaytime')['value'],\n",
    "                'min_age':row.find('minage')['value'],\n",
    "                'boardgamecategory':row.find_all('link', {'type': 'boardgamecategory'}),\n",
    "                'boardgamemechanic':row.find_all('link', {'type': 'boardgamemechanic'}),\n",
    "                'boardgamefamily':row.find_all('link', {'type': 'boardgamefamily'}),\n",
    "                'boardgameimplementation':row.find_all('link', {'type': 'boardgameimplementation'}),\n",
    "                'boardgamedesigner':row.find_all('link', {'type': 'boardgamedesigner'}),\n",
    "                'boardgamepublisher':row.find_all('link', {'type': 'boardgamepublisher'}),\n",
    "                'statistics': row.find('statistics')\n",
    "            }\n",
    "        game_dicts.append(game_details)\n",
    "        \n",
    "        time.sleep(10)\n",
    "        \n",
    "        print(f'Done with {game}')"
   ]
  },
  {
   "cell_type": "code",
   "execution_count": null,
   "id": "e827c4ba",
   "metadata": {},
   "outputs": [],
   "source": [
    "pd.DataFrame.from_dict(game_dicts)"
   ]
  },
  {
   "cell_type": "code",
   "execution_count": null,
   "id": "9d5d4e50",
   "metadata": {
    "scrolled": false
   },
   "outputs": [],
   "source": [
    "soup"
   ]
  },
  {
   "cell_type": "code",
   "execution_count": null,
   "id": "a469076f",
   "metadata": {},
   "outputs": [],
   "source": []
  },
  {
   "cell_type": "code",
   "execution_count": null,
   "id": "4d1e3af0",
   "metadata": {},
   "outputs": [],
   "source": []
  },
  {
   "cell_type": "code",
   "execution_count": null,
   "id": "41c85522",
   "metadata": {},
   "outputs": [],
   "source": []
  },
  {
   "cell_type": "code",
   "execution_count": 3,
   "id": "97668bce",
   "metadata": {},
   "outputs": [],
   "source": [
    "import os"
   ]
  },
  {
   "cell_type": "code",
   "execution_count": null,
   "id": "9175d627",
   "metadata": {},
   "outputs": [],
   "source": [
    "if not os.path.exists(f'{game}_ratings.csv'):"
   ]
  },
  {
   "cell_type": "code",
   "execution_count": 18,
   "id": "8e2465df",
   "metadata": {},
   "outputs": [],
   "source": [
    "bg_list = ['174430', '161936', '224517']"
   ]
  },
  {
   "cell_type": "code",
   "execution_count": 19,
   "id": "16ae6cdc",
   "metadata": {},
   "outputs": [
    {
     "name": "stdout",
     "output_type": "stream",
     "text": [
      "Done with 174430\n",
      "Done with 161936\n",
      "Done with 224517\n",
      "Done with all games\n"
     ]
    }
   ],
   "source": [
    "for game in bg_list:\n",
    "    if not os.path.exists(f'{game}_ratings.csv'):\n",
    "        user_ratings = []\n",
    "        for i in count():\n",
    "            page = i+1\n",
    "            \n",
    "            if page == 3:\n",
    "                time.sleep(10)\n",
    "                break\n",
    "\n",
    "            params = {\n",
    "                'id': game,\n",
    "                'ratingcomments': '1',\n",
    "                'page': page,\n",
    "                'pagesize': 100\n",
    "            }\n",
    "\n",
    "            res = requests.get(api, params)\n",
    "\n",
    "            if res.status_code != 200:\n",
    "                print(f'Error code {res.status_code} for game id: {game}')\n",
    "\n",
    "            soup = BeautifulSoup(res.text, 'xml')\n",
    "\n",
    "            if len(soup.find('comments').find_all('comment')) < 1:\n",
    "                time.sleep(10)\n",
    "                break\n",
    "\n",
    "            for comment in soup.find('comments').find_all('comment'):\n",
    "                user_rate ={\n",
    "                    'user_id': comment['username'],\n",
    "                'rating': comment['rating'],\n",
    "                'game_id': game\n",
    "                }\n",
    "\n",
    "                user_ratings.append(user_rate)\n",
    "\n",
    "            time.sleep(10)\n",
    "\n",
    "        pd.DataFrame.from_dict(user_ratings).to_csv(f'{game}_ratings.csv')\n",
    "        print(f'Done with {game}')\n",
    "print('Done with all games')"
   ]
  },
  {
   "cell_type": "code",
   "execution_count": 13,
   "id": "4df8b5ac",
   "metadata": {},
   "outputs": [
    {
     "data": {
      "text/plain": [
       "<comments page=\"2\" totalitems=\"27375\">\n",
       "<comment rating=\"10\" username=\"Agotha\" value=\"\"/>\n",
       "<comment rating=\"10\" username=\"largestill\" value=\"\"/>\n",
       "<comment rating=\"10\" username=\"WRSZS\" value=\"\"/>\n",
       "<comment rating=\"10\" username=\"Hellfish\" value=\"\"/>\n",
       "<comment rating=\"10\" username=\"CalAir\" value=\"Can't get bored of it. So so elegant. Simple rules, deep gameplay. Wow. Definitely a masterpiece. \"/>\n",
       "<comment rating=\"10\" username=\"kvnmcfddn\" value=\"A lot more open and a bit more forgiving then the original. Overbuilding is quite rare I have played it over 10 times with scores from 100-150 have yet to see it happen once.\"/>\n",
       "<comment rating=\"10\" username=\"EddieB80\" value=\"\"/>\n",
       "<comment rating=\"10\" username=\"throttle\" value=\"\"/>\n",
       "<comment rating=\"10\" username=\"mpollockrph\" value=\"Folding Spaces Insert\"/>\n",
       "<comment rating=\"10\" username=\"lightbenderfm\" value=\"\"/>\n",
       "<comment rating=\"10\" username=\"schuay\" value=\"\"/>\n",
       "<comment rating=\"10\" username=\"GRYPHUS\" value=\"\"/>\n",
       "<comment rating=\"10\" username=\"marLONE\" value=\"Deluxe Kickstarter Edition w/ clay chips. All cards sleeved. Realistic Resources (Coal and Iron and Beer)\"/>\n",
       "<comment rating=\"10\" username=\"idzi_k\" value=\"\"/>\n",
       "<comment rating=\"10\" username=\"Simbolio\" value=\"\"/>\n",
       "<comment rating=\"10\" username=\"JocaZ\" value=\"Deluxe Kickstarter Edition \"/>\n",
       "<comment rating=\"10\" username=\"jb1013x\" value=\"\"/>\n",
       "<comment rating=\"10\" username=\"Matthias19281\" value=\"\"/>\n",
       "<comment rating=\"10\" username=\"trentnbecky99\" value=\"\"/>\n",
       "<comment rating=\"10\" username=\"BadMadDog\" value=\"Although the way the rules are structured makes it seem more complex than it is, the game Is not that dificult to grasp and actually flows really well. The mechanics are great, it’s really a great game.\"/>\n",
       "<comment rating=\"10\" username=\"esquire468\" value=\"\"/>\n",
       "<comment rating=\"10\" username=\"s83m\" value=\"\"/>\n",
       "<comment rating=\"10\" username=\"scottie771\" value=\"\"/>\n",
       "<comment rating=\"10\" username=\"morinio\" value=\"\"/>\n",
       "<comment rating=\"10\" username=\"2grve\" value=\"\"/>\n",
       "<comment rating=\"10\" username=\"Rahnbo\" value=\"\"/>\n",
       "<comment rating=\"10\" username=\"jqgamer\" value=\"\"/>\n",
       "<comment rating=\"10\" username=\"tmmidkiff\" value=\"2-4 players\"/>\n",
       "<comment rating=\"10\" username=\"DarkerSide\" value=\"\"/>\n",
       "<comment rating=\"10\" username=\"Schwarzpfad\" value=\"\"/>\n",
       "<comment rating=\"10\" username=\"47029\" value=\"\"/>\n",
       "<comment rating=\"10\" username=\"travbot\" value=\"\"/>\n",
       "<comment rating=\"10\" username=\"Helikoputtrik\" value=\"The mix between long term economics and being opportunistic makes great game play where you really need to consider what your opponents are doing and what they likely will be doing. The combination of helping/leeching and blocking other players creates a lot of good player interaction. On top of this lies an interesting hand management aspect.\"/>\n",
       "<comment rating=\"10\" username=\"skim620\" value=\"Kickstarter\"/>\n",
       "<comment rating=\"10\" username=\"haarrrgh\" value=\"\"/>\n",
       "<comment rating=\"10\" username=\"seldumonde\" value=\"\"/>\n",
       "<comment rating=\"10\" username=\"rohmu\" value=\"\"/>\n",
       "<comment rating=\"10\" username=\"WendyandWill\" value=\"\"/>\n",
       "<comment rating=\"10\" username=\"absolutdragon\" value=\"\"/>\n",
       "<comment rating=\"10\" username=\"meixne\" value=\"\"/>\n",
       "<comment rating=\"10\" username=\"makesh1ft_m1l1t1a\" value=\"\"/>\n",
       "<comment rating=\"10\" username=\"E0001\" value=\"Really good thinky game with enough player interaction as you need to observe what the other player is doing. \"/>\n",
       "<comment rating=\"10\" username=\"Deinos\" value=\"\"/>\n",
       "<comment rating=\"10\" username=\"alepsycho\" value=\"There is no word to describe this incredible game. It is even better then its predecessor (Brass: Lancashire) in a way I didn't imagine it was possible. The beer interaction makes the game even more interactive than before and the different scheme on all industry trees makes the need for coal and iron a thing of bigger interaction between players, too. It is a perfect economic game for me!\"/>\n",
       "<comment rating=\"10\" username=\"mrtheboss\" value=\"\"/>\n",
       "<comment rating=\"10\" username=\"Codrdave\" value=\"\"/>\n",
       "<comment rating=\"10\" username=\"crowley47\" value=\"\"/>\n",
       "<comment rating=\"10\" username=\"jstrong\" value=\"\"/>\n",
       "<comment rating=\"10\" username=\"dekedagger\" value=\"\"/>\n",
       "<comment rating=\"10\" username=\"virolos\" value=\"\"/>\n",
       "<comment rating=\"10\" username=\"ZuckenderBlitz\" value=\"SEP 2020 - Spieleschmiede\"/>\n",
       "<comment rating=\"10\" username=\"KrisKhoo85\" value=\"\"/>\n",
       "<comment rating=\"10\" username=\"tino0387\" value=\"\"/>\n",
       "<comment rating=\"10\" username=\"CallumMacIver\" value=\"\"/>\n",
       "<comment rating=\"10\" username=\"mkemp217\" value=\"\"/>\n",
       "<comment rating=\"10\" username=\"aldebarane\" value=\"\"/>\n",
       "<comment rating=\"10\" username=\"ghostdog33\" value=\"\"/>\n",
       "<comment rating=\"10\" username=\"DMountford\" value=\"Probably my favorite game of 2018. Really like the challenges this game presents ... and how beautifully they are presented as well. A pleasure to look at and puzzle out. Still my favorite game at the start of 2020, so I changed my rating to a 10; I really cannot imagine a game I would like any better.\"/>\n",
       "<comment rating=\"10\" username=\"Yiyeru\" value=\"\"/>\n",
       "<comment rating=\"10\" username=\"nicponn\" value=\"\"/>\n",
       "<comment rating=\"10\" username=\"Abah\" value=\"\"/>\n",
       "<comment rating=\"10\" username=\"tomasgudm\" value=\"\"/>\n",
       "<comment rating=\"10\" username=\"cowhollow\" value=\"\"/>\n",
       "<comment rating=\"10\" username=\"gwaenadan\" value=\"\"/>\n",
       "<comment rating=\"10\" username=\"Luckbfern\" value=\"\"/>\n",
       "<comment rating=\"10\" username=\"terpitude71\" value=\"The version of Brass for two players; maybe overall. I still favor Lancashire when playing at the full player count as the cutthroat nature of the cotton demand track works well, but this is the version I will always select with 2 or 3. Also one of the finest productions in board gaming.\"/>\n",
       "<comment rating=\"10\" username=\"hadip\" value=\"\"/>\n",
       "<comment rating=\"10\" username=\"SDNPhotography\" value=\"\"/>\n",
       "<comment rating=\"10\" username=\"imphat\" value=\"\"/>\n",
       "<comment rating=\"10\" username=\"yencool\" value=\"\"/>\n",
       "<comment rating=\"10\" username=\"nwind\" value=\"\"/>\n",
       "<comment rating=\"10\" username=\"pandacmu\" value=\"\"/>\n",
       "<comment rating=\"10\" username=\"zacharyh211\" value=\"\"/>\n",
       "<comment rating=\"10\" username=\"KnightFanDan\" value=\"This is my #1 overall game. Kind of ironic since I'm primarily a solo gamer, but my love for this game grew out of developing my own solo variant (VictoriAI). I love playing this solo or with a group. The scaleability of the board for 2 to 4 players is a good improvement over Lancashire. The addition of beer is a fun thematic addition that makes for interesting decisions about when to sell goods. The art is beautiful and the iron clays are awesome to play with.\"/>\n",
       "<comment rating=\"10\" username=\"DaGannondorf\" value=\"\"/>\n",
       "<comment rating=\"10\" username=\"savannahlion\" value=\"\"/>\n",
       "<comment rating=\"10\" username=\"Averivera\" value=\"\"/>\n",
       "<comment rating=\"10\" username=\"WKDFROG\" value=\"\"/>\n",
       "<comment rating=\"10\" username=\"loganholman\" value=\"Artwork aside (10/10 for artwork)this is a phenomenal game. I only have a few plays in but I have loved each one.  The decisions are meaningful and plentiful (I love when I'm choosing between good/helpful moves rather than trying to find the least-sucky move).  Each game, thanks to the moving market tiles, has felt drastically different.  10 out of 10. \"/>\n",
       "<comment rating=\"10\" username=\"Preoris\" value=\"\"/>\n",
       "<comment rating=\"10\" username=\"dr_ballon\" value=\"\"/>\n",
       "<comment rating=\"10\" username=\"Trigonomical\" value=\"\"/>\n",
       "<comment rating=\"10\" username=\"sirjak\" value=\"\"/>\n",
       "<comment rating=\"10\" username=\"drmartens\" value=\"\"/>\n",
       "<comment rating=\"10\" username=\"bdgriff\" value=\"\"/>\n",
       "<comment rating=\"10\" username=\"chipmafia\" value=\"\"/>\n",
       "<comment rating=\"10\" username=\"abravenewgeek\" value=\"\"/>\n",
       "<comment rating=\"10\" username=\"iquito\" value=\"Really like the intense player interaction and the changes compared to Lancashire, especially removing the distant markets. A special/different map for 2 players (and maybe one for 3 players) would have improved the game though, I don't like all the cities in the north not being available in a 2 player game except for wildcards or building connections there (or other special circumstances). So I hope there will be at least another map for low player counts at some stage.\"/>\n",
       "<comment rating=\"10\" username=\"ShadowPenguinZ\" value=\"\"/>\n",
       "<comment rating=\"10\" username=\"carloswar\" value=\"\"/>\n",
       "<comment rating=\"10\" username=\"golonko\" value=\"\"/>\n",
       "<comment rating=\"10\" username=\"Phillafleur\" value=\"\"/>\n",
       "<comment rating=\"10\" username=\"burningspork\" value=\"\"/>\n",
       "<comment rating=\"10\" username=\"NeverEverAgain\" value=\"\"/>\n",
       "<comment rating=\"10\" username=\"DamenB\" value=\"\"/>\n",
       "<comment rating=\"10\" username=\"pconza\" value=\"OMG\"/>\n",
       "<comment rating=\"10\" username=\"blakraven66\" value=\"\"/>\n",
       "<comment rating=\"10\" username=\"villiman\" value=\"\"/>\n",
       "<comment rating=\"10\" username=\"Drimm\" value=\"KS Deluxe Edition + extra Chips\"/>\n",
       "<comment rating=\"10\" username=\"Brass_Herald\" value=\"Kickstarter Edition with Iron Clays\"/>\n",
       "</comments>"
      ]
     },
     "execution_count": 13,
     "metadata": {},
     "output_type": "execute_result"
    }
   ],
   "source": [
    "soup.find('comments')"
   ]
  },
  {
   "cell_type": "code",
   "execution_count": null,
   "id": "00a61328",
   "metadata": {},
   "outputs": [],
   "source": []
  },
  {
   "cell_type": "code",
   "execution_count": null,
   "id": "e2eb186a",
   "metadata": {},
   "outputs": [],
   "source": []
  },
  {
   "cell_type": "code",
   "execution_count": null,
   "id": "01099319",
   "metadata": {},
   "outputs": [],
   "source": [
    "user_rate"
   ]
  },
  {
   "cell_type": "code",
   "execution_count": null,
   "id": "5a162189",
   "metadata": {},
   "outputs": [],
   "source": [
    "df_test = pd.DataFrame.from_dict(user_ratings)"
   ]
  },
  {
   "cell_type": "code",
   "execution_count": null,
   "id": "71b0e385",
   "metadata": {},
   "outputs": [],
   "source": [
    "df_test"
   ]
  },
  {
   "cell_type": "code",
   "execution_count": null,
   "id": "fdbdbaf3",
   "metadata": {},
   "outputs": [],
   "source": [
    "df_test[df_test['user_id'] == 'Monty1979']"
   ]
  },
  {
   "cell_type": "code",
   "execution_count": null,
   "id": "1bab1ccb",
   "metadata": {},
   "outputs": [],
   "source": []
  },
  {
   "cell_type": "code",
   "execution_count": null,
   "id": "19c817f7",
   "metadata": {},
   "outputs": [],
   "source": []
  }
 ],
 "metadata": {
  "kernelspec": {
   "display_name": "Python 3 (ipykernel)",
   "language": "python",
   "name": "python3"
  },
  "language_info": {
   "codemirror_mode": {
    "name": "ipython",
    "version": 3
   },
   "file_extension": ".py",
   "mimetype": "text/x-python",
   "name": "python",
   "nbconvert_exporter": "python",
   "pygments_lexer": "ipython3",
   "version": "3.9.7"
  }
 },
 "nbformat": 4,
 "nbformat_minor": 5
}
